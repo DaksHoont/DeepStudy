{
 "cells": [
  {
   "cell_type": "markdown",
   "metadata": {},
   "source": [
    "# Example from TensorFlow site\n",
    "https://www.tensorflow.org/tutorials?hl=ko"
   ]
  },
  {
   "cell_type": "markdown",
   "metadata": {},
   "source": [
    "## 0. Example code in the TensorFlow site (Keras)"
   ]
  },
  {
   "cell_type": "code",
   "execution_count": 1,
   "metadata": {},
   "outputs": [
    {
     "name": "stdout",
     "output_type": "stream",
     "text": [
      "WARNING:tensorflow:From /usr/local/lib/python3.5/dist-packages/tensorflow/python/ops/resource_variable_ops.py:435: colocate_with (from tensorflow.python.framework.ops) is deprecated and will be removed in a future version.\n",
      "Instructions for updating:\n",
      "Colocations handled automatically by placer.\n",
      "WARNING:tensorflow:From /usr/local/lib/python3.5/dist-packages/tensorflow/python/keras/layers/core.py:143: calling dropout (from tensorflow.python.ops.nn_ops) with keep_prob is deprecated and will be removed in a future version.\n",
      "Instructions for updating:\n",
      "Please use `rate` instead of `keep_prob`. Rate should be set to `rate = 1 - keep_prob`.\n",
      "Epoch 1/5\n",
      "60000/60000 [==============================] - 6s 94us/sample - loss: 0.2211 - acc: 0.9333\n",
      "Epoch 2/5\n",
      "60000/60000 [==============================] - 5s 87us/sample - loss: 0.0966 - acc: 0.9706\n",
      "Epoch 3/5\n",
      "60000/60000 [==============================] - 5s 89us/sample - loss: 0.0688 - acc: 0.9779\n",
      "Epoch 4/5\n",
      "60000/60000 [==============================] - 5s 91us/sample - loss: 0.0540 - acc: 0.9829\n",
      "Epoch 5/5\n",
      "60000/60000 [==============================] - 6s 93us/sample - loss: 0.0436 - acc: 0.9854\n",
      "10000/10000 [==============================] - 1s 52us/sample - loss: 0.0751 - acc: 0.9783\n"
     ]
    },
    {
     "data": {
      "text/plain": [
       "[0.07510069246329368, 0.9783]"
      ]
     },
     "execution_count": 1,
     "metadata": {},
     "output_type": "execute_result"
    }
   ],
   "source": [
    "import tensorflow as tf\n",
    "mnist = tf.keras.datasets.mnist\n",
    "\n",
    "(x_train, y_train),(x_test, y_test) = mnist.load_data()\n",
    "x_train, x_test = x_train / 255.0, x_test / 255.0\n",
    "\n",
    "model = tf.keras.models.Sequential([\n",
    "  tf.keras.layers.Flatten(input_shape=(28, 28)),\n",
    "  tf.keras.layers.Dense(512, activation=tf.nn.relu),\n",
    "  tf.keras.layers.Dropout(0.2),\n",
    "  tf.keras.layers.Dense(10, activation=tf.nn.softmax)\n",
    "])\n",
    "model.compile(optimizer='adam',\n",
    "              loss='sparse_categorical_crossentropy',\n",
    "              metrics=['accuracy'])\n",
    "\n",
    "model.fit(x_train, y_train, epochs=5)\n",
    "model.evaluate(x_test, y_test)"
   ]
  },
  {
   "cell_type": "markdown",
   "metadata": {},
   "source": [
    "## 1. Teardown the example code"
   ]
  },
  {
   "cell_type": "code",
   "execution_count": 2,
   "metadata": {},
   "outputs": [],
   "source": [
    "# Import tensorflow library as tf\n",
    "import tensorflow as tf"
   ]
  },
  {
   "cell_type": "markdown",
   "metadata": {},
   "source": [
    "### 1) tf.keras.datasets.mnist\n",
    "- Type\n",
    "- Methods (Functions in the class)"
   ]
  },
  {
   "cell_type": "code",
   "execution_count": 3,
   "metadata": {},
   "outputs": [
    {
     "name": "stdout",
     "output_type": "stream",
     "text": [
      "Type of mnist is \n",
      "<class 'module'>\n",
      "Methods in mnist are \n",
      "['__builtins__', '__cached__', '__doc__', '__file__', '__loader__', '__name__', '__package__', '__path__', '__spec__', 'load_data']\n"
     ]
    }
   ],
   "source": [
    "mnist = tf.keras.datasets.mnist\n",
    "print(\"Type of mnist is \")\n",
    "print(type(mnist))\n",
    "print(\"Methods in mnist are \")\n",
    "print(dir(mnist))"
   ]
  },
  {
   "cell_type": "markdown",
   "metadata": {},
   "source": [
    "- Run Every Methods in the mnist"
   ]
  },
  {
   "cell_type": "code",
   "execution_count": 4,
   "metadata": {
    "scrolled": true
   },
   "outputs": [
    {
     "name": "stdout",
     "output_type": "stream",
     "text": [
      "{'hex': <built-in function hex>, 'compile': <built-in function compile>, 'slice': <class 'slice'>, 'bool': <class 'bool'>, 'InterruptedError': <class 'InterruptedError'>, 'EnvironmentError': <class 'OSError'>, 'tuple': <class 'tuple'>, 'ConnectionRefusedError': <class 'ConnectionRefusedError'>, 'delattr': <built-in function delattr>, 'LookupError': <class 'LookupError'>, 'exec': <built-in function exec>, 'BufferError': <class 'BufferError'>, 'len': <built-in function len>, 'bytearray': <class 'bytearray'>, 'RecursionError': <class 'RecursionError'>, 'enumerate': <class 'enumerate'>, 'ProcessLookupError': <class 'ProcessLookupError'>, 'complex': <class 'complex'>, 'StopIteration': <class 'StopIteration'>, 'IOError': <class 'OSError'>, 'min': <built-in function min>, 'NameError': <class 'NameError'>, 'dir': <built-in function dir>, 'StopAsyncIteration': <class 'StopAsyncIteration'>, 'FileExistsError': <class 'FileExistsError'>, 'globals': <built-in function globals>, 'hash': <built-in function hash>, 'dict': <class 'dict'>, 'callable': <built-in function callable>, 'next': <built-in function next>, 'None': None, 'True': True, 'NotADirectoryError': <class 'NotADirectoryError'>, 'BlockingIOError': <class 'BlockingIOError'>, '__name__': 'builtins', 'Ellipsis': Ellipsis, '__build_class__': <built-in function __build_class__>, 'sum': <built-in function sum>, 'vars': <built-in function vars>, 'input': <bound method Kernel.raw_input of <ipykernel.ipkernel.IPythonKernel object at 0x7f1fc2417a20>>, 'OSError': <class 'OSError'>, 'IndentationError': <class 'IndentationError'>, 'SyntaxWarning': <class 'SyntaxWarning'>, 'repr': <built-in function repr>, 'FloatingPointError': <class 'FloatingPointError'>, 'map': <class 'map'>, 'getattr': <built-in function getattr>, 'BytesWarning': <class 'BytesWarning'>, 'max': <built-in function max>, 'reversed': <class 'reversed'>, 'KeyboardInterrupt': <class 'KeyboardInterrupt'>, 'AssertionError': <class 'AssertionError'>, 'KeyError': <class 'KeyError'>, 'ConnectionResetError': <class 'ConnectionResetError'>, 'object': <class 'object'>, 'memoryview': <class 'memoryview'>, 'UnicodeEncodeError': <class 'UnicodeEncodeError'>, 'FileNotFoundError': <class 'FileNotFoundError'>, 'display': <function display at 0x7f1fc725f598>, 'SystemExit': <class 'SystemExit'>, 'UnicodeError': <class 'UnicodeError'>, 'sorted': <built-in function sorted>, 'ReferenceError': <class 'ReferenceError'>, 'divmod': <built-in function divmod>, 'oct': <built-in function oct>, 'round': <built-in function round>, 'PendingDeprecationWarning': <class 'PendingDeprecationWarning'>, 'format': <built-in function format>, 'float': <class 'float'>, 'Warning': <class 'Warning'>, 'zip': <class 'zip'>, 'list': <class 'list'>, 'license': Type license() to see the full license text, 'BrokenPipeError': <class 'BrokenPipeError'>, 'int': <class 'int'>, 'pow': <built-in function pow>, 'False': False, 'type': <class 'type'>, 'ResourceWarning': <class 'ResourceWarning'>, 'ord': <built-in function ord>, 'UserWarning': <class 'UserWarning'>, 'TimeoutError': <class 'TimeoutError'>, 'ConnectionError': <class 'ConnectionError'>, 'eval': <built-in function eval>, 'UnboundLocalError': <class 'UnboundLocalError'>, 'property': <class 'property'>, 'ArithmeticError': <class 'ArithmeticError'>, 'set': <class 'set'>, '__debug__': True, 'setattr': <built-in function setattr>, 'Exception': <class 'Exception'>, 'classmethod': <class 'classmethod'>, 'all': <built-in function all>, 'ImportWarning': <class 'ImportWarning'>, 'isinstance': <built-in function isinstance>, 'ValueError': <class 'ValueError'>, 'iter': <built-in function iter>, 'TypeError': <class 'TypeError'>, 'ConnectionAbortedError': <class 'ConnectionAbortedError'>, '__import__': <built-in function __import__>, 'bin': <built-in function bin>, 'PermissionError': <class 'PermissionError'>, 'NotImplementedError': <class 'NotImplementedError'>, 'any': <built-in function any>, 'DeprecationWarning': <class 'DeprecationWarning'>, 'NotImplemented': NotImplemented, 'ImportError': <class 'ImportError'>, 'issubclass': <built-in function issubclass>, 'RuntimeError': <class 'RuntimeError'>, 'locals': <built-in function locals>, 'credits':     Thanks to CWI, CNRI, BeOpen.com, Zope Corporation and a cast of thousands\n",
      "    for supporting Python development.  See www.python.org for more information., 'IsADirectoryError': <class 'IsADirectoryError'>, 'print': <built-in function print>, 'BaseException': <class 'BaseException'>, 'SystemError': <class 'SystemError'>, '__doc__': \"Built-in functions, exceptions, and other objects.\\n\\nNoteworthy: None is the `nil' object; Ellipsis represents `...' in slices.\", 'TabError': <class 'TabError'>, 'UnicodeDecodeError': <class 'UnicodeDecodeError'>, 'frozenset': <class 'frozenset'>, 'staticmethod': <class 'staticmethod'>, '__spec__': ModuleSpec(name='builtins', loader=<class '_frozen_importlib.BuiltinImporter'>), 'IndexError': <class 'IndexError'>, 'EOFError': <class 'EOFError'>, '__loader__': <class '_frozen_importlib.BuiltinImporter'>, 'bytes': <class 'bytes'>, 'SyntaxError': <class 'SyntaxError'>, 'AttributeError': <class 'AttributeError'>, 'copyright': Copyright (c) 2001-2016 Python Software Foundation.\n",
      "All Rights Reserved.\n",
      "\n",
      "Copyright (c) 2000 BeOpen.com.\n",
      "All Rights Reserved.\n",
      "\n",
      "Copyright (c) 1995-2001 Corporation for National Research Initiatives.\n",
      "All Rights Reserved.\n",
      "\n",
      "Copyright (c) 1991-1995 Stichting Mathematisch Centrum, Amsterdam.\n",
      "All Rights Reserved., 'ZeroDivisionError': <class 'ZeroDivisionError'>, 'chr': <built-in function chr>, 'ascii': <built-in function ascii>, 'filter': <class 'filter'>, 'super': <class 'super'>, 'MemoryError': <class 'MemoryError'>, '__IPYTHON__': True, 'hasattr': <built-in function hasattr>, 'FutureWarning': <class 'FutureWarning'>, 'UnicodeTranslateError': <class 'UnicodeTranslateError'>, 'str': <class 'str'>, 'abs': <built-in function abs>, '__package__': '', 'UnicodeWarning': <class 'UnicodeWarning'>, 'get_ipython': <bound method InteractiveShell.get_ipython of <ipykernel.zmqshell.ZMQInteractiveShell object at 0x7f1fc2417860>>, 'help': Type help() for interactive help, or help(object) for help about object., 'RuntimeWarning': <class 'RuntimeWarning'>, 'id': <built-in function id>, 'OverflowError': <class 'OverflowError'>, 'GeneratorExit': <class 'GeneratorExit'>, 'open': <built-in function open>, 'ChildProcessError': <class 'ChildProcessError'>, 'range': <class 'range'>}\n"
     ]
    }
   ],
   "source": [
    "print(mnist.__builtins__)"
   ]
  },
  {
   "cell_type": "code",
   "execution_count": 5,
   "metadata": {},
   "outputs": [
    {
     "name": "stdout",
     "output_type": "stream",
     "text": [
      "/usr/local/lib/python3.5/dist-packages/tensorflow/_api/v1/keras/datasets/mnist/__pycache__/__init__.cpython-35.pyc\n"
     ]
    }
   ],
   "source": [
    "print(mnist.__cached__)"
   ]
  },
  {
   "cell_type": "code",
   "execution_count": 6,
   "metadata": {},
   "outputs": [
    {
     "name": "stdout",
     "output_type": "stream",
     "text": [
      "MNIST handwritten digits dataset.\n",
      "\n",
      "\n"
     ]
    }
   ],
   "source": [
    "print(mnist.__doc__)"
   ]
  },
  {
   "cell_type": "code",
   "execution_count": 7,
   "metadata": {},
   "outputs": [
    {
     "name": "stdout",
     "output_type": "stream",
     "text": [
      "/usr/local/lib/python3.5/dist-packages/tensorflow/_api/v1/keras/datasets/mnist/__init__.py\n"
     ]
    }
   ],
   "source": [
    "print(mnist.__file__)"
   ]
  },
  {
   "cell_type": "code",
   "execution_count": 8,
   "metadata": {},
   "outputs": [
    {
     "name": "stdout",
     "output_type": "stream",
     "text": [
      "<_frozen_importlib_external.SourceFileLoader object at 0x7f1ef49c0048>\n"
     ]
    }
   ],
   "source": [
    "print(mnist.__loader__)"
   ]
  },
  {
   "cell_type": "code",
   "execution_count": 9,
   "metadata": {},
   "outputs": [
    {
     "name": "stdout",
     "output_type": "stream",
     "text": [
      "tensorflow._api.v1.keras.datasets.mnist\n"
     ]
    }
   ],
   "source": [
    "print(mnist.__name__)"
   ]
  },
  {
   "cell_type": "code",
   "execution_count": 10,
   "metadata": {},
   "outputs": [
    {
     "name": "stdout",
     "output_type": "stream",
     "text": [
      "tensorflow._api.v1.keras.datasets.mnist\n"
     ]
    }
   ],
   "source": [
    "print(mnist.__package__)"
   ]
  },
  {
   "cell_type": "code",
   "execution_count": 11,
   "metadata": {},
   "outputs": [
    {
     "name": "stdout",
     "output_type": "stream",
     "text": [
      "['/usr/local/lib/python3.5/dist-packages/tensorflow/_api/v1/keras/datasets/mnist']\n"
     ]
    }
   ],
   "source": [
    "print(mnist.__path__)"
   ]
  },
  {
   "cell_type": "code",
   "execution_count": 12,
   "metadata": {},
   "outputs": [
    {
     "name": "stdout",
     "output_type": "stream",
     "text": [
      "ModuleSpec(name='tensorflow._api.v1.keras.datasets.mnist', loader=<_frozen_importlib_external.SourceFileLoader object at 0x7f1ef49c0048>, origin='/usr/local/lib/python3.5/dist-packages/tensorflow/_api/v1/keras/datasets/mnist/__init__.py', submodule_search_locations=['/usr/local/lib/python3.5/dist-packages/tensorflow/_api/v1/keras/datasets/mnist'])\n"
     ]
    }
   ],
   "source": [
    "print(mnist.__spec__)"
   ]
  },
  {
   "cell_type": "code",
   "execution_count": 13,
   "metadata": {},
   "outputs": [
    {
     "name": "stdout",
     "output_type": "stream",
     "text": [
      "<function load_data at 0x7f1ef4ed0d90>\n"
     ]
    }
   ],
   "source": [
    "print(mnist.load_data)"
   ]
  },
  {
   "cell_type": "markdown",
   "metadata": {},
   "source": [
    "### 2) mnist.load_data"
   ]
  },
  {
   "cell_type": "code",
   "execution_count": 14,
   "metadata": {
    "scrolled": true
   },
   "outputs": [
    {
     "name": "stdout",
     "output_type": "stream",
     "text": [
      "Data type is\n",
      "<class 'tuple'>\n",
      "Data length is\n",
      "2\n"
     ]
    }
   ],
   "source": [
    "mnist_data = mnist.load_data()\n",
    "\n",
    "# data type\n",
    "print(\"Data type is\")\n",
    "print(type(mnist_data))\n",
    "print(\"Data length is\")\n",
    "print(len(mnist_data))"
   ]
  },
  {
   "cell_type": "code",
   "execution_count": 15,
   "metadata": {},
   "outputs": [
    {
     "name": "stdout",
     "output_type": "stream",
     "text": [
      "Data looks like\n",
      "((array([[[0, 0, 0, ..., 0, 0, 0],\n",
      "        [0, 0, 0, ..., 0, 0, 0],\n",
      "        [0, 0, 0, ..., 0, 0, 0],\n",
      "        ...,\n",
      "        [0, 0, 0, ..., 0, 0, 0],\n",
      "        [0, 0, 0, ..., 0, 0, 0],\n",
      "        [0, 0, 0, ..., 0, 0, 0]],\n",
      "\n",
      "       [[0, 0, 0, ..., 0, 0, 0],\n",
      "        [0, 0, 0, ..., 0, 0, 0],\n",
      "        [0, 0, 0, ..., 0, 0, 0],\n",
      "        ...,\n",
      "        [0, 0, 0, ..., 0, 0, 0],\n",
      "        [0, 0, 0, ..., 0, 0, 0],\n",
      "        [0, 0, 0, ..., 0, 0, 0]],\n",
      "\n",
      "       [[0, 0, 0, ..., 0, 0, 0],\n",
      "        [0, 0, 0, ..., 0, 0, 0],\n",
      "        [0, 0, 0, ..., 0, 0, 0],\n",
      "        ...,\n",
      "        [0, 0, 0, ..., 0, 0, 0],\n",
      "        [0, 0, 0, ..., 0, 0, 0],\n",
      "        [0, 0, 0, ..., 0, 0, 0]],\n",
      "\n",
      "       ...,\n",
      "\n",
      "       [[0, 0, 0, ..., 0, 0, 0],\n",
      "        [0, 0, 0, ..., 0, 0, 0],\n",
      "        [0, 0, 0, ..., 0, 0, 0],\n",
      "        ...,\n",
      "        [0, 0, 0, ..., 0, 0, 0],\n",
      "        [0, 0, 0, ..., 0, 0, 0],\n",
      "        [0, 0, 0, ..., 0, 0, 0]],\n",
      "\n",
      "       [[0, 0, 0, ..., 0, 0, 0],\n",
      "        [0, 0, 0, ..., 0, 0, 0],\n",
      "        [0, 0, 0, ..., 0, 0, 0],\n",
      "        ...,\n",
      "        [0, 0, 0, ..., 0, 0, 0],\n",
      "        [0, 0, 0, ..., 0, 0, 0],\n",
      "        [0, 0, 0, ..., 0, 0, 0]],\n",
      "\n",
      "       [[0, 0, 0, ..., 0, 0, 0],\n",
      "        [0, 0, 0, ..., 0, 0, 0],\n",
      "        [0, 0, 0, ..., 0, 0, 0],\n",
      "        ...,\n",
      "        [0, 0, 0, ..., 0, 0, 0],\n",
      "        [0, 0, 0, ..., 0, 0, 0],\n",
      "        [0, 0, 0, ..., 0, 0, 0]]], dtype=uint8), array([5, 0, 4, ..., 5, 6, 8], dtype=uint8)), (array([[[0, 0, 0, ..., 0, 0, 0],\n",
      "        [0, 0, 0, ..., 0, 0, 0],\n",
      "        [0, 0, 0, ..., 0, 0, 0],\n",
      "        ...,\n",
      "        [0, 0, 0, ..., 0, 0, 0],\n",
      "        [0, 0, 0, ..., 0, 0, 0],\n",
      "        [0, 0, 0, ..., 0, 0, 0]],\n",
      "\n",
      "       [[0, 0, 0, ..., 0, 0, 0],\n",
      "        [0, 0, 0, ..., 0, 0, 0],\n",
      "        [0, 0, 0, ..., 0, 0, 0],\n",
      "        ...,\n",
      "        [0, 0, 0, ..., 0, 0, 0],\n",
      "        [0, 0, 0, ..., 0, 0, 0],\n",
      "        [0, 0, 0, ..., 0, 0, 0]],\n",
      "\n",
      "       [[0, 0, 0, ..., 0, 0, 0],\n",
      "        [0, 0, 0, ..., 0, 0, 0],\n",
      "        [0, 0, 0, ..., 0, 0, 0],\n",
      "        ...,\n",
      "        [0, 0, 0, ..., 0, 0, 0],\n",
      "        [0, 0, 0, ..., 0, 0, 0],\n",
      "        [0, 0, 0, ..., 0, 0, 0]],\n",
      "\n",
      "       ...,\n",
      "\n",
      "       [[0, 0, 0, ..., 0, 0, 0],\n",
      "        [0, 0, 0, ..., 0, 0, 0],\n",
      "        [0, 0, 0, ..., 0, 0, 0],\n",
      "        ...,\n",
      "        [0, 0, 0, ..., 0, 0, 0],\n",
      "        [0, 0, 0, ..., 0, 0, 0],\n",
      "        [0, 0, 0, ..., 0, 0, 0]],\n",
      "\n",
      "       [[0, 0, 0, ..., 0, 0, 0],\n",
      "        [0, 0, 0, ..., 0, 0, 0],\n",
      "        [0, 0, 0, ..., 0, 0, 0],\n",
      "        ...,\n",
      "        [0, 0, 0, ..., 0, 0, 0],\n",
      "        [0, 0, 0, ..., 0, 0, 0],\n",
      "        [0, 0, 0, ..., 0, 0, 0]],\n",
      "\n",
      "       [[0, 0, 0, ..., 0, 0, 0],\n",
      "        [0, 0, 0, ..., 0, 0, 0],\n",
      "        [0, 0, 0, ..., 0, 0, 0],\n",
      "        ...,\n",
      "        [0, 0, 0, ..., 0, 0, 0],\n",
      "        [0, 0, 0, ..., 0, 0, 0],\n",
      "        [0, 0, 0, ..., 0, 0, 0]]], dtype=uint8), array([7, 2, 1, ..., 4, 5, 6], dtype=uint8)))\n"
     ]
    }
   ],
   "source": [
    "# data shape\n",
    "print(\"Data looks like\")\n",
    "print(mnist_data)"
   ]
  },
  {
   "cell_type": "code",
   "execution_count": 16,
   "metadata": {},
   "outputs": [
    {
     "name": "stdout",
     "output_type": "stream",
     "text": [
      "Data type is\n",
      "<class 'tuple'>\n",
      "Data length is\n",
      "2\n",
      "(array([[[0, 0, 0, ..., 0, 0, 0],\n",
      "        [0, 0, 0, ..., 0, 0, 0],\n",
      "        [0, 0, 0, ..., 0, 0, 0],\n",
      "        ...,\n",
      "        [0, 0, 0, ..., 0, 0, 0],\n",
      "        [0, 0, 0, ..., 0, 0, 0],\n",
      "        [0, 0, 0, ..., 0, 0, 0]],\n",
      "\n",
      "       [[0, 0, 0, ..., 0, 0, 0],\n",
      "        [0, 0, 0, ..., 0, 0, 0],\n",
      "        [0, 0, 0, ..., 0, 0, 0],\n",
      "        ...,\n",
      "        [0, 0, 0, ..., 0, 0, 0],\n",
      "        [0, 0, 0, ..., 0, 0, 0],\n",
      "        [0, 0, 0, ..., 0, 0, 0]],\n",
      "\n",
      "       [[0, 0, 0, ..., 0, 0, 0],\n",
      "        [0, 0, 0, ..., 0, 0, 0],\n",
      "        [0, 0, 0, ..., 0, 0, 0],\n",
      "        ...,\n",
      "        [0, 0, 0, ..., 0, 0, 0],\n",
      "        [0, 0, 0, ..., 0, 0, 0],\n",
      "        [0, 0, 0, ..., 0, 0, 0]],\n",
      "\n",
      "       ...,\n",
      "\n",
      "       [[0, 0, 0, ..., 0, 0, 0],\n",
      "        [0, 0, 0, ..., 0, 0, 0],\n",
      "        [0, 0, 0, ..., 0, 0, 0],\n",
      "        ...,\n",
      "        [0, 0, 0, ..., 0, 0, 0],\n",
      "        [0, 0, 0, ..., 0, 0, 0],\n",
      "        [0, 0, 0, ..., 0, 0, 0]],\n",
      "\n",
      "       [[0, 0, 0, ..., 0, 0, 0],\n",
      "        [0, 0, 0, ..., 0, 0, 0],\n",
      "        [0, 0, 0, ..., 0, 0, 0],\n",
      "        ...,\n",
      "        [0, 0, 0, ..., 0, 0, 0],\n",
      "        [0, 0, 0, ..., 0, 0, 0],\n",
      "        [0, 0, 0, ..., 0, 0, 0]],\n",
      "\n",
      "       [[0, 0, 0, ..., 0, 0, 0],\n",
      "        [0, 0, 0, ..., 0, 0, 0],\n",
      "        [0, 0, 0, ..., 0, 0, 0],\n",
      "        ...,\n",
      "        [0, 0, 0, ..., 0, 0, 0],\n",
      "        [0, 0, 0, ..., 0, 0, 0],\n",
      "        [0, 0, 0, ..., 0, 0, 0]]], dtype=uint8), array([5, 0, 4, ..., 5, 6, 8], dtype=uint8))\n"
     ]
    }
   ],
   "source": [
    "# data type\n",
    "print(\"Data type is\")\n",
    "print(type(mnist_data[0]))\n",
    "print(\"Data length is\")\n",
    "print(len(mnist_data[0]))\n",
    "print(mnist_data[0])"
   ]
  },
  {
   "cell_type": "markdown",
   "metadata": {},
   "source": [
    "> According to the manual (https://www.tensorflow.org/api_docs/python/tf/keras/datasets/mnist/load_data),\n",
    "tf.keras.datasets.mnist.load_data returns ` Tuple of Numpy arrays: (x_train, y_train), (x_test, y_test)`."
   ]
  },
  {
   "cell_type": "code",
   "execution_count": 17,
   "metadata": {},
   "outputs": [
    {
     "name": "stdout",
     "output_type": "stream",
     "text": [
      "x_train is (60000, 28, 28) and data type is \"uint8\"\n",
      "y_train is (60000,) and data type is \"uint8\"\n",
      "x_test is (10000, 28, 28) and data type is \"uint8\"\n",
      "y_test is (10000,) and data type is \"uint8\"\n"
     ]
    }
   ],
   "source": [
    "# Save data using tuple\n",
    "(x_train, y_train),(x_test, y_test) = mnist.load_data()\n",
    "\n",
    "print(\"x_train is \" + str(x_train.shape) + \" and data type is \\\"\" + str(x_train.dtype) +\"\\\"\")\n",
    "print(\"y_train is \" + str(y_train.shape) + \" and data type is \\\"\" + str(y_train.dtype) +\"\\\"\")\n",
    "print(\"x_test is \" + str(x_test.shape) + \" and data type is \\\"\" + str(x_test.dtype) +\"\\\"\")\n",
    "print(\"y_test is \" + str(y_test.shape) + \" and data type is \\\"\" + str(y_test.dtype) +\"\\\"\")"
   ]
  },
  {
   "cell_type": "markdown",
   "metadata": {},
   "source": [
    "> x_train and y_train are traing data set data which has 60000 examples with 28 x 28 images and labels (0~9)\n",
    "\n",
    "> x_test and y_test are test data set data which has 10000 examples with 28 x 28 images and labels (0~9)"
   ]
  },
  {
   "cell_type": "code",
   "execution_count": 18,
   "metadata": {},
   "outputs": [
    {
     "name": "stdout",
     "output_type": "stream",
     "text": [
      "x_train is (60000, 28, 28) and data type is \"float64\"\n",
      "y_train is (60000,) and data type is \"uint8\"\n",
      "x_test is (10000, 28, 28) and data type is \"float64\"\n",
      "y_test is (10000,) and data type is \"uint8\"\n"
     ]
    }
   ],
   "source": [
    "# Normalize dataset\n",
    "x_train, x_test = x_train / 255.0, x_test / 255.0\n",
    "print(\"x_train is \" + str(x_train.shape) + \" and data type is \\\"\" + str(x_train.dtype) +\"\\\"\")\n",
    "print(\"y_train is \" + str(y_train.shape) + \" and data type is \\\"\" + str(y_train.dtype) +\"\\\"\")\n",
    "print(\"x_test is \" + str(x_test.shape) + \" and data type is \\\"\" + str(x_test.dtype) +\"\\\"\")\n",
    "print(\"y_test is \" + str(y_test.shape) + \" and data type is \\\"\" + str(y_test.dtype) +\"\\\"\")"
   ]
  },
  {
   "cell_type": "markdown",
   "metadata": {},
   "source": [
    "> Data type is changed from `uint8` to `float64` by normalization"
   ]
  },
  {
   "cell_type": "markdown",
   "metadata": {},
   "source": [
    "### 3. tf.keras.models.Sequential\n",
    "\n",
    "Linear stack of layers in keras\n",
    "\n",
    "https://www.tensorflow.org/api_docs/python/tf/keras/models/Sequential\n",
    "\n",
    "tf.keras.layers.Flatten\n",
    "https://www.tensorflow.org/api_docs/python/tf/keras/layers/Flatten\n",
    "\n",
    "tf.keras.layers.Dense\n",
    "https://www.tensorflow.org/api_docs/python/tf/keras/layers/Dense\n",
    "\n",
    "tf.keras.layers.Dropout\n",
    "https://www.tensorflow.org/api_docs/python/tf/keras/layers/Dropout\n"
   ]
  },
  {
   "cell_type": "code",
   "execution_count": 19,
   "metadata": {},
   "outputs": [],
   "source": [
    "model = tf.keras.models.Sequential([\n",
    "  tf.keras.layers.Flatten(input_shape=(28, 28)),\n",
    "  tf.keras.layers.Dense(512, activation=tf.nn.relu),\n",
    "  tf.keras.layers.Dropout(0.2, seed = 1114),\n",
    "  tf.keras.layers.Dense(10, activation=tf.nn.softmax)\n",
    "])"
   ]
  },
  {
   "cell_type": "markdown",
   "metadata": {},
   "source": [
    "### 4. model.compile\n",
    "\n",
    "https://www.tensorflow.org/api_docs/python/tf/keras/models/Sequential#compile\n"
   ]
  },
  {
   "cell_type": "code",
   "execution_count": 20,
   "metadata": {},
   "outputs": [
    {
     "name": "stdout",
     "output_type": "stream",
     "text": [
      "_________________________________________________________________\n",
      "Layer (type)                 Output Shape              Param #   \n",
      "=================================================================\n",
      "flatten_1 (Flatten)          (None, 784)               0         \n",
      "_________________________________________________________________\n",
      "dense_2 (Dense)              (None, 512)               401920    \n",
      "_________________________________________________________________\n",
      "dropout_1 (Dropout)          (None, 512)               0         \n",
      "_________________________________________________________________\n",
      "dense_3 (Dense)              (None, 10)                5130      \n",
      "=================================================================\n",
      "Total params: 407,050\n",
      "Trainable params: 407,050\n",
      "Non-trainable params: 0\n",
      "_________________________________________________________________\n"
     ]
    }
   ],
   "source": [
    "model.compile(optimizer='adam',\n",
    "              loss='sparse_categorical_crossentropy',\n",
    "              metrics=['accuracy'])\n",
    "model.summary()"
   ]
  },
  {
   "cell_type": "markdown",
   "metadata": {},
   "source": [
    "### 5. model.fit\n",
    "\n",
    "https://www.tensorflow.org/api_docs/python/tf/keras/models/Sequential#fit"
   ]
  },
  {
   "cell_type": "code",
   "execution_count": 21,
   "metadata": {},
   "outputs": [
    {
     "name": "stdout",
     "output_type": "stream",
     "text": [
      "Epoch 1/5\n",
      "60000/60000 [==============================] - 6s 96us/sample - loss: 0.2208 - acc: 0.9342\n",
      "Epoch 2/5\n",
      "60000/60000 [==============================] - 6s 94us/sample - loss: 0.0958 - acc: 0.9703\n",
      "Epoch 3/5\n",
      "60000/60000 [==============================] - 6s 93us/sample - loss: 0.0704 - acc: 0.9780\n",
      "Epoch 4/5\n",
      "60000/60000 [==============================] - 6s 92us/sample - loss: 0.0547 - acc: 0.9821\n",
      "Epoch 5/5\n",
      "60000/60000 [==============================] - 5s 91us/sample - loss: 0.0439 - acc: 0.9857\n"
     ]
    },
    {
     "data": {
      "text/plain": [
       "<tensorflow.python.keras.callbacks.History at 0x7f1ed74b5ba8>"
      ]
     },
     "execution_count": 21,
     "metadata": {},
     "output_type": "execute_result"
    }
   ],
   "source": [
    "model.fit(x_train, y_train, epochs=5, batch_size=32, workers = 100, use_multiprocessing = True)"
   ]
  },
  {
   "cell_type": "code",
   "execution_count": 22,
   "metadata": {},
   "outputs": [
    {
     "name": "stdout",
     "output_type": "stream",
     "text": [
      "10000/10000 [==============================] - 1s 53us/sample - loss: 0.0627 - acc: 0.9816\n"
     ]
    },
    {
     "data": {
      "text/plain": [
       "[0.06271533164199208, 0.9816]"
      ]
     },
     "execution_count": 22,
     "metadata": {},
     "output_type": "execute_result"
    }
   ],
   "source": [
    "model.evaluate(x_test, y_test)"
   ]
  },
  {
   "cell_type": "code",
   "execution_count": 23,
   "metadata": {},
   "outputs": [],
   "source": [
    "y_predict = model.predict(x_test)"
   ]
  },
  {
   "cell_type": "code",
   "execution_count": 24,
   "metadata": {},
   "outputs": [
    {
     "data": {
      "text/plain": [
       "<Figure size 640x480 with 1 Axes>"
      ]
     },
     "metadata": {},
     "output_type": "display_data"
    },
    {
     "name": "stdout",
     "output_type": "stream",
     "text": [
      "7 7\n"
     ]
    },
    {
     "data": {
      "text/plain": [
       "<Figure size 640x480 with 1 Axes>"
      ]
     },
     "metadata": {},
     "output_type": "display_data"
    },
    {
     "name": "stdout",
     "output_type": "stream",
     "text": [
      "2 2\n"
     ]
    },
    {
     "data": {
      "text/plain": [
       "<Figure size 640x480 with 1 Axes>"
      ]
     },
     "metadata": {},
     "output_type": "display_data"
    },
    {
     "name": "stdout",
     "output_type": "stream",
     "text": [
      "1 1\n"
     ]
    },
    {
     "data": {
      "text/plain": [
       "<Figure size 640x480 with 1 Axes>"
      ]
     },
     "metadata": {},
     "output_type": "display_data"
    },
    {
     "name": "stdout",
     "output_type": "stream",
     "text": [
      "0 0\n"
     ]
    }
   ],
   "source": [
    "import matplotlib.pyplot as plt\n",
    "\n",
    "for i in range(4):\n",
    "    plt.imshow(x_test[i])\n",
    "    plt.show()\n",
    "    print(y_predict[i].argmax(), y_test[i])"
   ]
  },
  {
   "cell_type": "code",
   "execution_count": null,
   "metadata": {},
   "outputs": [],
   "source": []
  }
 ],
 "metadata": {
  "kernelspec": {
   "display_name": "Python 3",
   "language": "python",
   "name": "python3"
  },
  "language_info": {
   "codemirror_mode": {
    "name": "ipython",
    "version": 3
   },
   "file_extension": ".py",
   "mimetype": "text/x-python",
   "name": "python",
   "nbconvert_exporter": "python",
   "pygments_lexer": "ipython3",
   "version": "3.5.2"
  }
 },
 "nbformat": 4,
 "nbformat_minor": 2
}
